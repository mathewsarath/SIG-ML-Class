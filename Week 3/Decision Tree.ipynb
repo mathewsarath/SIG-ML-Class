{
 "cells": [
  {
   "cell_type": "code",
   "execution_count": 1,
   "metadata": {},
   "outputs": [],
   "source": [
    "import pandas as pd\n",
    "import numpy as np\n",
    "import matplotlib.pyplot"
   ]
  },
  {
   "cell_type": "code",
   "execution_count": 2,
   "metadata": {},
   "outputs": [
    {
     "data": {
      "text/html": [
       "<div>\n",
       "<style scoped>\n",
       "    .dataframe tbody tr th:only-of-type {\n",
       "        vertical-align: middle;\n",
       "    }\n",
       "\n",
       "    .dataframe tbody tr th {\n",
       "        vertical-align: top;\n",
       "    }\n",
       "\n",
       "    .dataframe thead th {\n",
       "        text-align: right;\n",
       "    }\n",
       "</style>\n",
       "<table border=\"1\" class=\"dataframe\">\n",
       "  <thead>\n",
       "    <tr style=\"text-align: right;\">\n",
       "      <th></th>\n",
       "      <th>num_preg</th>\n",
       "      <th>glucose_conc</th>\n",
       "      <th>diastolic_bp</th>\n",
       "      <th>thickness</th>\n",
       "      <th>insulin</th>\n",
       "      <th>bmi</th>\n",
       "      <th>diab_pred</th>\n",
       "      <th>age</th>\n",
       "      <th>skin</th>\n",
       "      <th>diabetes</th>\n",
       "    </tr>\n",
       "  </thead>\n",
       "  <tbody>\n",
       "    <tr>\n",
       "      <th>0</th>\n",
       "      <td>6</td>\n",
       "      <td>148</td>\n",
       "      <td>72</td>\n",
       "      <td>35</td>\n",
       "      <td>0</td>\n",
       "      <td>33.6</td>\n",
       "      <td>0.627</td>\n",
       "      <td>50</td>\n",
       "      <td>1.3790</td>\n",
       "      <td>True</td>\n",
       "    </tr>\n",
       "    <tr>\n",
       "      <th>1</th>\n",
       "      <td>1</td>\n",
       "      <td>85</td>\n",
       "      <td>66</td>\n",
       "      <td>29</td>\n",
       "      <td>0</td>\n",
       "      <td>26.6</td>\n",
       "      <td>0.351</td>\n",
       "      <td>31</td>\n",
       "      <td>1.1426</td>\n",
       "      <td>False</td>\n",
       "    </tr>\n",
       "    <tr>\n",
       "      <th>2</th>\n",
       "      <td>8</td>\n",
       "      <td>183</td>\n",
       "      <td>64</td>\n",
       "      <td>0</td>\n",
       "      <td>0</td>\n",
       "      <td>23.3</td>\n",
       "      <td>0.672</td>\n",
       "      <td>32</td>\n",
       "      <td>0.0000</td>\n",
       "      <td>True</td>\n",
       "    </tr>\n",
       "    <tr>\n",
       "      <th>3</th>\n",
       "      <td>1</td>\n",
       "      <td>89</td>\n",
       "      <td>66</td>\n",
       "      <td>23</td>\n",
       "      <td>94</td>\n",
       "      <td>28.1</td>\n",
       "      <td>0.167</td>\n",
       "      <td>21</td>\n",
       "      <td>0.9062</td>\n",
       "      <td>False</td>\n",
       "    </tr>\n",
       "    <tr>\n",
       "      <th>4</th>\n",
       "      <td>0</td>\n",
       "      <td>137</td>\n",
       "      <td>40</td>\n",
       "      <td>35</td>\n",
       "      <td>168</td>\n",
       "      <td>43.1</td>\n",
       "      <td>2.288</td>\n",
       "      <td>33</td>\n",
       "      <td>1.3790</td>\n",
       "      <td>True</td>\n",
       "    </tr>\n",
       "  </tbody>\n",
       "</table>\n",
       "</div>"
      ],
      "text/plain": [
       "   num_preg  glucose_conc  diastolic_bp  thickness  insulin   bmi  diab_pred  \\\n",
       "0         6           148            72         35        0  33.6      0.627   \n",
       "1         1            85            66         29        0  26.6      0.351   \n",
       "2         8           183            64          0        0  23.3      0.672   \n",
       "3         1            89            66         23       94  28.1      0.167   \n",
       "4         0           137            40         35      168  43.1      2.288   \n",
       "\n",
       "   age    skin  diabetes  \n",
       "0   50  1.3790      True  \n",
       "1   31  1.1426     False  \n",
       "2   32  0.0000      True  \n",
       "3   21  0.9062     False  \n",
       "4   33  1.3790      True  "
      ]
     },
     "execution_count": 2,
     "metadata": {},
     "output_type": "execute_result"
    }
   ],
   "source": [
    "data=pd.read_csv(\"pima-data.csv\")\n",
    "data.head()"
   ]
  },
  {
   "cell_type": "code",
   "execution_count": 7,
   "metadata": {},
   "outputs": [
    {
     "name": "stdout",
     "output_type": "stream",
     "text": [
      "<class 'pandas.core.frame.DataFrame'>\n",
      "RangeIndex: 768 entries, 0 to 767\n",
      "Data columns (total 10 columns):\n",
      " #   Column        Non-Null Count  Dtype  \n",
      "---  ------        --------------  -----  \n",
      " 0   num_preg      768 non-null    int64  \n",
      " 1   glucose_conc  768 non-null    int64  \n",
      " 2   diastolic_bp  768 non-null    int64  \n",
      " 3   thickness     768 non-null    int64  \n",
      " 4   insulin       768 non-null    int64  \n",
      " 5   bmi           768 non-null    float64\n",
      " 6   diab_pred     768 non-null    float64\n",
      " 7   age           768 non-null    int64  \n",
      " 8   skin          768 non-null    float64\n",
      " 9   diabetes      768 non-null    bool   \n",
      "dtypes: bool(1), float64(3), int64(6)\n",
      "memory usage: 54.9 KB\n"
     ]
    }
   ],
   "source": [
    "data.info()"
   ]
  },
  {
   "cell_type": "code",
   "execution_count": 9,
   "metadata": {},
   "outputs": [
    {
     "data": {
      "text/plain": [
       "num_preg        False\n",
       "glucose_conc    False\n",
       "diastolic_bp    False\n",
       "thickness       False\n",
       "insulin         False\n",
       "bmi             False\n",
       "diab_pred       False\n",
       "age             False\n",
       "skin            False\n",
       "diabetes        False\n",
       "dtype: bool"
      ]
     },
     "execution_count": 9,
     "metadata": {},
     "output_type": "execute_result"
    }
   ],
   "source": [
    "data.isna().any()"
   ]
  },
  {
   "cell_type": "code",
   "execution_count": 10,
   "metadata": {},
   "outputs": [],
   "source": [
    "from sklearn.model_selection import train_test_split"
   ]
  },
  {
   "cell_type": "code",
   "execution_count": 14,
   "metadata": {},
   "outputs": [],
   "source": [
    "data_cp=data.drop(['diabetes'],axis=1)\n",
    "X_train,X_test,y_train,y_test=train_test_split(data_cp,data[\"diabetes\"],train_size=.8,random_state=0)"
   ]
  },
  {
   "cell_type": "code",
   "execution_count": 15,
   "metadata": {},
   "outputs": [
    {
     "name": "stdout",
     "output_type": "stream",
     "text": [
      "<class 'pandas.core.frame.DataFrame'>\n",
      "Int64Index: 614 entries, 603 to 684\n",
      "Data columns (total 9 columns):\n",
      " #   Column        Non-Null Count  Dtype  \n",
      "---  ------        --------------  -----  \n",
      " 0   num_preg      614 non-null    int64  \n",
      " 1   glucose_conc  614 non-null    int64  \n",
      " 2   diastolic_bp  614 non-null    int64  \n",
      " 3   thickness     614 non-null    int64  \n",
      " 4   insulin       614 non-null    int64  \n",
      " 5   bmi           614 non-null    float64\n",
      " 6   diab_pred     614 non-null    float64\n",
      " 7   age           614 non-null    int64  \n",
      " 8   skin          614 non-null    float64\n",
      "dtypes: float64(3), int64(6)\n",
      "memory usage: 48.0 KB\n"
     ]
    }
   ],
   "source": [
    "X_train.info()"
   ]
  },
  {
   "cell_type": "code",
   "execution_count": 16,
   "metadata": {},
   "outputs": [
    {
     "name": "stdout",
     "output_type": "stream",
     "text": [
      "614.4000000000001\n"
     ]
    }
   ],
   "source": [
    "print(768*.8)"
   ]
  },
  {
   "cell_type": "code",
   "execution_count": 25,
   "metadata": {},
   "outputs": [],
   "source": [
    "from sklearn.tree import DecisionTreeClassifier,plot_tree\n",
    "from sklearn.metrics import accuracy_score"
   ]
  },
  {
   "cell_type": "markdown",
   "metadata": {},
   "source": [
    "## Overfitting Example"
   ]
  },
  {
   "cell_type": "code",
   "execution_count": 35,
   "metadata": {},
   "outputs": [
    {
     "data": {
      "text/plain": [
       "DecisionTreeClassifier(random_state=0)"
      ]
     },
     "execution_count": 35,
     "metadata": {},
     "output_type": "execute_result"
    }
   ],
   "source": [
    "model1=DecisionTreeClassifier(random_state=0)\n",
    "model1.fit(X_train,y_train)"
   ]
  },
  {
   "cell_type": "code",
   "execution_count": 38,
   "metadata": {},
   "outputs": [
    {
     "name": "stdout",
     "output_type": "stream",
     "text": [
      "train model accuracy= 100.0\n",
      "test model accuracy= 77.92207792207793\n"
     ]
    }
   ],
   "source": [
    "pred_train=model1.predict(X_train)\n",
    "print(\"train model accuracy=\",accuracy_score(y_train,pred_train)*100)\n",
    "pred_test=model1.predict(X_test)\n",
    "print(\"test model accuracy=\",accuracy_score(y_test,pred_test)*100)"
   ]
  },
  {
   "cell_type": "code",
   "execution_count": 39,
   "metadata": {},
   "outputs": [
    {
     "data": {
      "text/plain": [
       "[Text(137.06881009615384, 209.6742857142857, 'X[1] <= 123.5\\ngini = 0.461\\nsamples = 614\\nvalue = [393, 221]'),\n",
       " Text(49.29447115384615, 194.14285714285714, 'X[7] <= 28.5\\ngini = 0.301\\nsamples = 352\\nvalue = [287, 65]'),\n",
       " Text(17.70576923076923, 178.61142857142858, 'X[5] <= 30.95\\ngini = 0.162\\nsamples = 202\\nvalue = [184, 18]'),\n",
       " Text(9.657692307692308, 163.07999999999998, 'X[0] <= 7.0\\ngini = 0.036\\nsamples = 110\\nvalue = [108, 2]'),\n",
       " Text(6.438461538461539, 147.54857142857142, 'X[6] <= 0.672\\ngini = 0.018\\nsamples = 109\\nvalue = [108, 1]'),\n",
       " Text(3.2192307692307693, 132.01714285714286, 'gini = 0.0\\nsamples = 99\\nvalue = [99, 0]'),\n",
       " Text(9.657692307692308, 132.01714285714286, 'X[6] <= 0.697\\ngini = 0.18\\nsamples = 10\\nvalue = [9, 1]'),\n",
       " Text(6.438461538461539, 116.48571428571428, 'gini = 0.0\\nsamples = 1\\nvalue = [0, 1]'),\n",
       " Text(12.876923076923077, 116.48571428571428, 'gini = 0.0\\nsamples = 9\\nvalue = [9, 0]'),\n",
       " Text(12.876923076923077, 147.54857142857142, 'gini = 0.0\\nsamples = 1\\nvalue = [0, 1]'),\n",
       " Text(25.753846153846155, 163.07999999999998, 'X[2] <= 53.0\\ngini = 0.287\\nsamples = 92\\nvalue = [76, 16]'),\n",
       " Text(19.315384615384616, 147.54857142857142, 'X[6] <= 0.508\\ngini = 0.444\\nsamples = 6\\nvalue = [2, 4]'),\n",
       " Text(16.096153846153847, 132.01714285714286, 'gini = 0.0\\nsamples = 4\\nvalue = [0, 4]'),\n",
       " Text(22.534615384615385, 132.01714285714286, 'gini = 0.0\\nsamples = 2\\nvalue = [2, 0]'),\n",
       " Text(32.19230769230769, 147.54857142857142, 'X[6] <= 1.272\\ngini = 0.24\\nsamples = 86\\nvalue = [74, 12]'),\n",
       " Text(28.973076923076924, 132.01714285714286, 'X[6] <= 0.501\\ngini = 0.225\\nsamples = 85\\nvalue = [74, 11]'),\n",
       " Text(22.534615384615385, 116.48571428571428, 'X[5] <= 45.35\\ngini = 0.135\\nsamples = 55\\nvalue = [51, 4]'),\n",
       " Text(19.315384615384616, 100.9542857142857, 'X[4] <= 36.5\\ngini = 0.105\\nsamples = 54\\nvalue = [51, 3]'),\n",
       " Text(16.096153846153847, 85.42285714285714, 'X[2] <= 82.5\\ngini = 0.266\\nsamples = 19\\nvalue = [16, 3]'),\n",
       " Text(12.876923076923077, 69.89142857142858, 'X[1] <= 111.5\\ngini = 0.198\\nsamples = 18\\nvalue = [16, 2]'),\n",
       " Text(9.657692307692308, 54.359999999999985, 'gini = 0.0\\nsamples = 13\\nvalue = [13, 0]'),\n",
       " Text(16.096153846153847, 54.359999999999985, 'X[5] <= 34.5\\ngini = 0.48\\nsamples = 5\\nvalue = [3, 2]'),\n",
       " Text(12.876923076923077, 38.82857142857142, 'gini = 0.0\\nsamples = 2\\nvalue = [0, 2]'),\n",
       " Text(19.315384615384616, 38.82857142857142, 'gini = 0.0\\nsamples = 3\\nvalue = [3, 0]'),\n",
       " Text(19.315384615384616, 69.89142857142858, 'gini = 0.0\\nsamples = 1\\nvalue = [0, 1]'),\n",
       " Text(22.534615384615385, 85.42285714285714, 'gini = 0.0\\nsamples = 35\\nvalue = [35, 0]'),\n",
       " Text(25.753846153846155, 100.9542857142857, 'gini = 0.0\\nsamples = 1\\nvalue = [0, 1]'),\n",
       " Text(35.41153846153846, 116.48571428571428, 'X[2] <= 69.0\\ngini = 0.358\\nsamples = 30\\nvalue = [23, 7]'),\n",
       " Text(32.19230769230769, 100.9542857142857, 'X[1] <= 88.5\\ngini = 0.492\\nsamples = 16\\nvalue = [9, 7]'),\n",
       " Text(28.973076923076924, 85.42285714285714, 'gini = 0.0\\nsamples = 7\\nvalue = [7, 0]'),\n",
       " Text(35.41153846153846, 85.42285714285714, 'X[6] <= 0.908\\ngini = 0.346\\nsamples = 9\\nvalue = [2, 7]'),\n",
       " Text(32.19230769230769, 69.89142857142858, 'X[1] <= 98.5\\ngini = 0.219\\nsamples = 8\\nvalue = [1, 7]'),\n",
       " Text(28.973076923076924, 54.359999999999985, 'X[5] <= 37.4\\ngini = 0.444\\nsamples = 3\\nvalue = [1, 2]'),\n",
       " Text(25.753846153846155, 38.82857142857142, 'gini = 0.0\\nsamples = 1\\nvalue = [1, 0]'),\n",
       " Text(32.19230769230769, 38.82857142857142, 'gini = 0.0\\nsamples = 2\\nvalue = [0, 2]'),\n",
       " Text(35.41153846153846, 54.359999999999985, 'gini = 0.0\\nsamples = 5\\nvalue = [0, 5]'),\n",
       " Text(38.63076923076923, 69.89142857142858, 'gini = 0.0\\nsamples = 1\\nvalue = [1, 0]'),\n",
       " Text(38.63076923076923, 100.9542857142857, 'gini = 0.0\\nsamples = 14\\nvalue = [14, 0]'),\n",
       " Text(35.41153846153846, 132.01714285714286, 'gini = 0.0\\nsamples = 1\\nvalue = [0, 1]'),\n",
       " Text(80.88317307692309, 178.61142857142858, 'X[5] <= 26.35\\ngini = 0.43\\nsamples = 150\\nvalue = [103, 47]'),\n",
       " Text(77.66394230769231, 163.07999999999998, 'gini = 0.0\\nsamples = 29\\nvalue = [29, 0]'),\n",
       " Text(84.10240384615385, 163.07999999999998, 'X[1] <= 99.5\\ngini = 0.475\\nsamples = 121\\nvalue = [74, 47]'),\n",
       " Text(57.94615384615385, 147.54857142857142, 'X[1] <= 28.5\\ngini = 0.337\\nsamples = 42\\nvalue = [33, 9]'),\n",
       " Text(54.72692307692308, 132.01714285714286, 'gini = 0.0\\nsamples = 2\\nvalue = [0, 2]'),\n",
       " Text(61.16538461538462, 132.01714285714286, 'X[7] <= 42.5\\ngini = 0.289\\nsamples = 40\\nvalue = [33, 7]'),\n",
       " Text(54.72692307692308, 116.48571428571428, 'X[6] <= 1.16\\ngini = 0.137\\nsamples = 27\\nvalue = [25, 2]'),\n",
       " Text(51.50769230769231, 100.9542857142857, 'X[6] <= 0.171\\ngini = 0.074\\nsamples = 26\\nvalue = [25, 1]'),\n",
       " Text(48.28846153846154, 85.42285714285714, 'X[3] <= 18.5\\ngini = 0.375\\nsamples = 4\\nvalue = [3, 1]'),\n",
       " Text(45.06923076923077, 69.89142857142858, 'gini = 0.0\\nsamples = 1\\nvalue = [0, 1]'),\n",
       " Text(51.50769230769231, 69.89142857142858, 'gini = 0.0\\nsamples = 3\\nvalue = [3, 0]'),\n",
       " Text(54.72692307692308, 85.42285714285714, 'gini = 0.0\\nsamples = 22\\nvalue = [22, 0]'),\n",
       " Text(57.94615384615385, 100.9542857142857, 'gini = 0.0\\nsamples = 1\\nvalue = [0, 1]'),\n",
       " Text(67.60384615384615, 116.48571428571428, 'X[5] <= 30.85\\ngini = 0.473\\nsamples = 13\\nvalue = [8, 5]'),\n",
       " Text(64.38461538461539, 100.9542857142857, 'gini = 0.0\\nsamples = 2\\nvalue = [0, 2]'),\n",
       " Text(70.82307692307693, 100.9542857142857, 'X[3] <= 21.5\\ngini = 0.397\\nsamples = 11\\nvalue = [8, 3]'),\n",
       " Text(67.60384615384615, 85.42285714285714, 'gini = 0.0\\nsamples = 5\\nvalue = [5, 0]'),\n",
       " Text(74.0423076923077, 85.42285714285714, 'X[2] <= 75.0\\ngini = 0.5\\nsamples = 6\\nvalue = [3, 3]'),\n",
       " Text(70.82307692307693, 69.89142857142858, 'gini = 0.0\\nsamples = 3\\nvalue = [3, 0]'),\n",
       " Text(77.26153846153846, 69.89142857142858, 'gini = 0.0\\nsamples = 3\\nvalue = [0, 3]'),\n",
       " Text(110.25865384615385, 147.54857142857142, 'X[5] <= 27.55\\ngini = 0.499\\nsamples = 79\\nvalue = [41, 38]'),\n",
       " Text(107.03942307692309, 132.01714285714286, 'gini = 0.0\\nsamples = 5\\nvalue = [0, 5]'),\n",
       " Text(113.47788461538462, 132.01714285714286, 'X[6] <= 0.179\\ngini = 0.494\\nsamples = 74\\nvalue = [41, 33]'),\n",
       " Text(110.25865384615385, 116.48571428571428, 'gini = 0.0\\nsamples = 8\\nvalue = [8, 0]'),\n",
       " Text(116.69711538461539, 116.48571428571428, 'X[0] <= 6.5\\ngini = 0.5\\nsamples = 66\\nvalue = [33, 33]'),\n",
       " Text(98.18653846153846, 100.9542857142857, 'X[0] <= 1.5\\ngini = 0.483\\nsamples = 44\\nvalue = [26, 18]'),\n",
       " Text(86.91923076923078, 85.42285714285714, 'X[6] <= 0.894\\ngini = 0.475\\nsamples = 18\\nvalue = [7, 11]'),\n",
       " Text(83.7, 69.89142857142858, 'X[6] <= 0.2\\ngini = 0.391\\nsamples = 15\\nvalue = [4, 11]'),\n",
       " Text(80.48076923076923, 54.359999999999985, 'gini = 0.0\\nsamples = 2\\nvalue = [2, 0]'),\n",
       " Text(86.91923076923078, 54.359999999999985, 'X[2] <= 92.0\\ngini = 0.26\\nsamples = 13\\nvalue = [2, 11]'),\n",
       " Text(83.7, 38.82857142857142, 'X[1] <= 101.0\\ngini = 0.153\\nsamples = 12\\nvalue = [1, 11]'),\n",
       " Text(80.48076923076923, 23.29714285714286, 'gini = 0.0\\nsamples = 1\\nvalue = [1, 0]'),\n",
       " Text(86.91923076923078, 23.29714285714286, 'gini = 0.0\\nsamples = 11\\nvalue = [0, 11]'),\n",
       " Text(90.13846153846154, 38.82857142857142, 'gini = 0.0\\nsamples = 1\\nvalue = [1, 0]'),\n",
       " Text(90.13846153846154, 69.89142857142858, 'gini = 0.0\\nsamples = 3\\nvalue = [3, 0]'),\n",
       " Text(109.45384615384616, 85.42285714285714, 'X[7] <= 34.5\\ngini = 0.393\\nsamples = 26\\nvalue = [19, 7]'),\n",
       " Text(103.01538461538462, 69.89142857142858, 'X[2] <= 63.0\\ngini = 0.133\\nsamples = 14\\nvalue = [13, 1]'),\n",
       " Text(99.79615384615386, 54.359999999999985, 'X[3] <= 25.5\\ngini = 0.5\\nsamples = 2\\nvalue = [1, 1]'),\n",
       " Text(96.57692307692308, 38.82857142857142, 'gini = 0.0\\nsamples = 1\\nvalue = [0, 1]'),\n",
       " Text(103.01538461538462, 38.82857142857142, 'gini = 0.0\\nsamples = 1\\nvalue = [1, 0]'),\n",
       " Text(106.23461538461538, 54.359999999999985, 'gini = 0.0\\nsamples = 12\\nvalue = [12, 0]'),\n",
       " Text(115.8923076923077, 69.89142857142858, 'X[2] <= 74.5\\ngini = 0.5\\nsamples = 12\\nvalue = [6, 6]'),\n",
       " Text(112.67307692307693, 54.359999999999985, 'gini = 0.0\\nsamples = 4\\nvalue = [0, 4]'),\n",
       " Text(119.11153846153846, 54.359999999999985, 'X[5] <= 32.65\\ngini = 0.375\\nsamples = 8\\nvalue = [6, 2]'),\n",
       " Text(115.8923076923077, 38.82857142857142, 'X[5] <= 29.3\\ngini = 0.444\\nsamples = 3\\nvalue = [1, 2]'),\n",
       " Text(112.67307692307693, 23.29714285714286, 'gini = 0.0\\nsamples = 1\\nvalue = [1, 0]'),\n",
       " Text(119.11153846153846, 23.29714285714286, 'gini = 0.0\\nsamples = 2\\nvalue = [0, 2]'),\n",
       " Text(122.33076923076923, 38.82857142857142, 'gini = 0.0\\nsamples = 5\\nvalue = [5, 0]'),\n",
       " Text(135.2076923076923, 100.9542857142857, 'X[7] <= 39.0\\ngini = 0.434\\nsamples = 22\\nvalue = [7, 15]'),\n",
       " Text(131.98846153846154, 85.42285714285714, 'gini = 0.0\\nsamples = 8\\nvalue = [0, 8]'),\n",
       " Text(138.4269230769231, 85.42285714285714, 'X[6] <= 0.587\\ngini = 0.5\\nsamples = 14\\nvalue = [7, 7]'),\n",
       " Text(135.2076923076923, 69.89142857142858, 'X[1] <= 109.0\\ngini = 0.42\\nsamples = 10\\nvalue = [7, 3]'),\n",
       " Text(131.98846153846154, 54.359999999999985, 'X[7] <= 43.5\\ngini = 0.5\\nsamples = 6\\nvalue = [3, 3]'),\n",
       " Text(128.76923076923077, 38.82857142857142, 'gini = 0.0\\nsamples = 1\\nvalue = [0, 1]'),\n",
       " Text(135.2076923076923, 38.82857142857142, 'X[5] <= 35.4\\ngini = 0.48\\nsamples = 5\\nvalue = [3, 2]'),\n",
       " Text(131.98846153846154, 23.29714285714286, 'gini = 0.0\\nsamples = 2\\nvalue = [2, 0]'),\n",
       " Text(138.4269230769231, 23.29714285714286, 'X[3] <= 38.0\\ngini = 0.444\\nsamples = 3\\nvalue = [1, 2]'),\n",
       " Text(135.2076923076923, 7.765714285714267, 'gini = 0.0\\nsamples = 2\\nvalue = [0, 2]'),\n",
       " Text(141.64615384615385, 7.765714285714267, 'gini = 0.0\\nsamples = 1\\nvalue = [1, 0]'),\n",
       " Text(138.4269230769231, 54.359999999999985, 'gini = 0.0\\nsamples = 4\\nvalue = [4, 0]'),\n",
       " Text(141.64615384615385, 69.89142857142858, 'gini = 0.0\\nsamples = 4\\nvalue = [0, 4]'),\n",
       " Text(224.84314903846155, 194.14285714285714, 'X[5] <= 30.05\\ngini = 0.482\\nsamples = 262\\nvalue = [106, 156]'),\n",
       " Text(168.2048076923077, 178.61142857142858, 'X[7] <= 26.0\\ngini = 0.438\\nsamples = 74\\nvalue = [50, 24]'),\n",
       " Text(164.98557692307693, 163.07999999999998, 'gini = 0.0\\nsamples = 19\\nvalue = [19, 0]'),\n",
       " Text(171.42403846153846, 163.07999999999998, 'X[7] <= 60.5\\ngini = 0.492\\nsamples = 55\\nvalue = [31, 24]'),\n",
       " Text(168.2048076923077, 147.54857142857142, 'X[1] <= 151.5\\ngini = 0.5\\nsamples = 47\\nvalue = [23, 24]'),\n",
       " Text(156.1326923076923, 132.01714285714286, 'X[1] <= 125.5\\ngini = 0.469\\nsamples = 32\\nvalue = [20, 12]'),\n",
       " Text(144.8653846153846, 116.48571428571428, 'X[3] <= 27.0\\ngini = 0.375\\nsamples = 8\\nvalue = [2, 6]'),\n",
       " Text(141.64615384615385, 100.9542857142857, 'gini = 0.0\\nsamples = 5\\nvalue = [0, 5]'),\n",
       " Text(148.0846153846154, 100.9542857142857, 'X[2] <= 74.0\\ngini = 0.444\\nsamples = 3\\nvalue = [2, 1]'),\n",
       " Text(144.8653846153846, 85.42285714285714, 'gini = 0.0\\nsamples = 2\\nvalue = [2, 0]'),\n",
       " Text(151.30384615384617, 85.42285714285714, 'gini = 0.0\\nsamples = 1\\nvalue = [0, 1]'),\n",
       " Text(167.4, 116.48571428571428, 'X[2] <= 73.0\\ngini = 0.375\\nsamples = 24\\nvalue = [18, 6]'),\n",
       " Text(160.96153846153845, 100.9542857142857, 'X[2] <= 64.5\\ngini = 0.5\\nsamples = 8\\nvalue = [4, 4]'),\n",
       " Text(157.7423076923077, 85.42285714285714, 'X[2] <= 28.0\\ngini = 0.32\\nsamples = 5\\nvalue = [4, 1]'),\n",
       " Text(154.52307692307693, 69.89142857142858, 'gini = 0.0\\nsamples = 1\\nvalue = [0, 1]'),\n",
       " Text(160.96153846153845, 69.89142857142858, 'gini = 0.0\\nsamples = 4\\nvalue = [4, 0]'),\n",
       " Text(164.18076923076924, 85.42285714285714, 'gini = 0.0\\nsamples = 3\\nvalue = [0, 3]'),\n",
       " Text(173.83846153846156, 100.9542857142857, 'X[5] <= 28.0\\ngini = 0.219\\nsamples = 16\\nvalue = [14, 2]'),\n",
       " Text(170.61923076923077, 85.42285714285714, 'gini = 0.0\\nsamples = 9\\nvalue = [9, 0]'),\n",
       " Text(177.05769230769232, 85.42285714285714, 'X[5] <= 29.55\\ngini = 0.408\\nsamples = 7\\nvalue = [5, 2]'),\n",
       " Text(173.83846153846156, 69.89142857142858, 'X[7] <= 30.5\\ngini = 0.444\\nsamples = 3\\nvalue = [1, 2]'),\n",
       " Text(170.61923076923077, 54.359999999999985, 'gini = 0.0\\nsamples = 1\\nvalue = [1, 0]'),\n",
       " Text(177.05769230769232, 54.359999999999985, 'gini = 0.0\\nsamples = 2\\nvalue = [0, 2]'),\n",
       " Text(180.27692307692308, 69.89142857142858, 'gini = 0.0\\nsamples = 4\\nvalue = [4, 0]'),\n",
       " Text(180.27692307692308, 132.01714285714286, 'X[5] <= 27.1\\ngini = 0.32\\nsamples = 15\\nvalue = [3, 12]'),\n",
       " Text(177.05769230769232, 116.48571428571428, 'gini = 0.0\\nsamples = 8\\nvalue = [0, 8]'),\n",
       " Text(183.49615384615385, 116.48571428571428, 'X[7] <= 36.5\\ngini = 0.49\\nsamples = 7\\nvalue = [3, 4]'),\n",
       " Text(180.27692307692308, 100.9542857142857, 'gini = 0.0\\nsamples = 3\\nvalue = [0, 3]'),\n",
       " Text(186.7153846153846, 100.9542857142857, 'X[5] <= 29.25\\ngini = 0.375\\nsamples = 4\\nvalue = [3, 1]'),\n",
       " Text(183.49615384615385, 85.42285714285714, 'gini = 0.0\\nsamples = 3\\nvalue = [3, 0]'),\n",
       " Text(189.9346153846154, 85.42285714285714, 'gini = 0.0\\nsamples = 1\\nvalue = [0, 1]'),\n",
       " Text(174.64326923076925, 147.54857142857142, 'gini = 0.0\\nsamples = 8\\nvalue = [8, 0]'),\n",
       " Text(281.48149038461537, 178.61142857142858, 'X[1] <= 157.5\\ngini = 0.418\\nsamples = 188\\nvalue = [56, 132]'),\n",
       " Text(242.64951923076924, 163.07999999999998, 'X[7] <= 28.5\\ngini = 0.482\\nsamples = 116\\nvalue = [47, 69]'),\n",
       " Text(215.68846153846155, 147.54857142857142, 'X[2] <= 73.0\\ngini = 0.49\\nsamples = 42\\nvalue = [24, 18]'),\n",
       " Text(202.81153846153848, 132.01714285714286, 'X[6] <= 0.186\\ngini = 0.463\\nsamples = 22\\nvalue = [8, 14]'),\n",
       " Text(199.5923076923077, 116.48571428571428, 'gini = 0.0\\nsamples = 3\\nvalue = [3, 0]'),\n",
       " Text(206.03076923076924, 116.48571428571428, 'X[1] <= 147.0\\ngini = 0.388\\nsamples = 19\\nvalue = [5, 14]'),\n",
       " Text(199.5923076923077, 100.9542857142857, 'X[4] <= 365.0\\ngini = 0.231\\nsamples = 15\\nvalue = [2, 13]'),\n",
       " Text(196.37307692307692, 85.42285714285714, 'X[0] <= 3.5\\ngini = 0.133\\nsamples = 14\\nvalue = [1, 13]'),\n",
       " Text(193.15384615384616, 69.89142857142858, 'gini = 0.0\\nsamples = 11\\nvalue = [0, 11]'),\n",
       " Text(199.5923076923077, 69.89142857142858, 'X[7] <= 23.5\\ngini = 0.444\\nsamples = 3\\nvalue = [1, 2]'),\n",
       " Text(196.37307692307692, 54.359999999999985, 'gini = 0.0\\nsamples = 2\\nvalue = [0, 2]'),\n",
       " Text(202.81153846153848, 54.359999999999985, 'gini = 0.0\\nsamples = 1\\nvalue = [1, 0]'),\n",
       " Text(202.81153846153848, 85.42285714285714, 'gini = 0.0\\nsamples = 1\\nvalue = [1, 0]'),\n",
       " Text(212.46923076923076, 100.9542857142857, 'X[0] <= 2.5\\ngini = 0.375\\nsamples = 4\\nvalue = [3, 1]'),\n",
       " Text(209.25, 85.42285714285714, 'gini = 0.0\\nsamples = 1\\nvalue = [0, 1]'),\n",
       " Text(215.68846153846155, 85.42285714285714, 'gini = 0.0\\nsamples = 3\\nvalue = [3, 0]'),\n",
       " Text(228.56538461538463, 132.01714285714286, 'X[2] <= 89.0\\ngini = 0.32\\nsamples = 20\\nvalue = [16, 4]'),\n",
       " Text(222.12692307692308, 116.48571428571428, 'X[0] <= 4.5\\ngini = 0.117\\nsamples = 16\\nvalue = [15, 1]'),\n",
       " Text(218.90769230769232, 100.9542857142857, 'gini = 0.0\\nsamples = 14\\nvalue = [14, 0]'),\n",
       " Text(225.34615384615387, 100.9542857142857, 'X[5] <= 38.85\\ngini = 0.5\\nsamples = 2\\nvalue = [1, 1]'),\n",
       " Text(222.12692307692308, 85.42285714285714, 'gini = 0.0\\nsamples = 1\\nvalue = [0, 1]'),\n",
       " Text(228.56538461538463, 85.42285714285714, 'gini = 0.0\\nsamples = 1\\nvalue = [1, 0]'),\n",
       " Text(235.00384615384615, 116.48571428571428, 'X[4] <= 137.5\\ngini = 0.375\\nsamples = 4\\nvalue = [1, 3]'),\n",
       " Text(231.7846153846154, 100.9542857142857, 'gini = 0.0\\nsamples = 3\\nvalue = [0, 3]'),\n",
       " Text(238.22307692307692, 100.9542857142857, 'gini = 0.0\\nsamples = 1\\nvalue = [1, 0]'),\n",
       " Text(269.6105769230769, 147.54857142857142, 'X[6] <= 0.429\\ngini = 0.428\\nsamples = 74\\nvalue = [23, 51]'),\n",
       " Text(251.10000000000002, 132.01714285714286, 'X[5] <= 45.55\\ngini = 0.499\\nsamples = 38\\nvalue = [18, 20]'),\n",
       " Text(247.88076923076923, 116.48571428571428, 'X[0] <= 1.5\\ngini = 0.496\\nsamples = 33\\nvalue = [18, 15]'),\n",
       " Text(244.66153846153847, 100.9542857142857, 'gini = 0.0\\nsamples = 3\\nvalue = [0, 3]'),\n",
       " Text(251.10000000000002, 100.9542857142857, 'X[5] <= 37.25\\ngini = 0.48\\nsamples = 30\\nvalue = [18, 12]'),\n",
       " Text(244.66153846153847, 85.42285714285714, 'X[2] <= 89.0\\ngini = 0.499\\nsamples = 21\\nvalue = [10, 11]'),\n",
       " Text(241.4423076923077, 69.89142857142858, 'X[4] <= 118.5\\ngini = 0.499\\nsamples = 19\\nvalue = [10, 9]'),\n",
       " Text(233.39423076923077, 54.359999999999985, 'X[1] <= 137.0\\ngini = 0.473\\nsamples = 13\\nvalue = [5, 8]'),\n",
       " Text(226.95576923076925, 38.82857142857142, 'X[6] <= 0.148\\ngini = 0.219\\nsamples = 8\\nvalue = [1, 7]'),\n",
       " Text(223.73653846153846, 23.29714285714286, 'X[6] <= 0.132\\ngini = 0.5\\nsamples = 2\\nvalue = [1, 1]'),\n",
       " Text(220.5173076923077, 7.765714285714267, 'gini = 0.0\\nsamples = 1\\nvalue = [0, 1]'),\n",
       " Text(226.95576923076925, 7.765714285714267, 'gini = 0.0\\nsamples = 1\\nvalue = [1, 0]'),\n",
       " Text(230.175, 23.29714285714286, 'gini = 0.0\\nsamples = 6\\nvalue = [0, 6]'),\n",
       " Text(239.83269230769233, 38.82857142857142, 'X[7] <= 67.5\\ngini = 0.32\\nsamples = 5\\nvalue = [4, 1]'),\n",
       " Text(236.61346153846154, 23.29714285714286, 'gini = 0.0\\nsamples = 4\\nvalue = [4, 0]'),\n",
       " Text(243.0519230769231, 23.29714285714286, 'gini = 0.0\\nsamples = 1\\nvalue = [0, 1]'),\n",
       " Text(249.4903846153846, 54.359999999999985, 'X[7] <= 30.0\\ngini = 0.278\\nsamples = 6\\nvalue = [5, 1]'),\n",
       " Text(246.27115384615385, 38.82857142857142, 'gini = 0.0\\nsamples = 1\\nvalue = [0, 1]'),\n",
       " Text(252.7096153846154, 38.82857142857142, 'gini = 0.0\\nsamples = 5\\nvalue = [5, 0]'),\n",
       " Text(247.88076923076923, 69.89142857142858, 'gini = 0.0\\nsamples = 2\\nvalue = [0, 2]'),\n",
       " Text(257.53846153846155, 85.42285714285714, 'X[1] <= 146.5\\ngini = 0.198\\nsamples = 9\\nvalue = [8, 1]'),\n",
       " Text(254.31923076923078, 69.89142857142858, 'gini = 0.0\\nsamples = 7\\nvalue = [7, 0]'),\n",
       " Text(260.7576923076923, 69.89142857142858, 'X[4] <= 220.0\\ngini = 0.5\\nsamples = 2\\nvalue = [1, 1]'),\n",
       " Text(257.53846153846155, 54.359999999999985, 'gini = 0.0\\nsamples = 1\\nvalue = [0, 1]'),\n",
       " Text(263.9769230769231, 54.359999999999985, 'gini = 0.0\\nsamples = 1\\nvalue = [1, 0]'),\n",
       " Text(254.31923076923078, 116.48571428571428, 'gini = 0.0\\nsamples = 5\\nvalue = [0, 5]'),\n",
       " Text(288.12115384615385, 132.01714285714286, 'X[4] <= 333.5\\ngini = 0.239\\nsamples = 36\\nvalue = [5, 31]'),\n",
       " Text(280.07307692307694, 116.48571428571428, 'X[0] <= 0.5\\ngini = 0.165\\nsamples = 33\\nvalue = [3, 30]'),\n",
       " Text(273.6346153846154, 100.9542857142857, 'X[5] <= 41.8\\ngini = 0.48\\nsamples = 5\\nvalue = [2, 3]'),\n",
       " Text(270.4153846153846, 85.42285714285714, 'X[2] <= 85.0\\ngini = 0.444\\nsamples = 3\\nvalue = [2, 1]'),\n",
       " Text(267.19615384615383, 69.89142857142858, 'gini = 0.0\\nsamples = 2\\nvalue = [2, 0]'),\n",
       " Text(273.6346153846154, 69.89142857142858, 'gini = 0.0\\nsamples = 1\\nvalue = [0, 1]'),\n",
       " Text(276.8538461538462, 85.42285714285714, 'gini = 0.0\\nsamples = 2\\nvalue = [0, 2]'),\n",
       " Text(286.51153846153846, 100.9542857142857, 'X[5] <= 40.05\\ngini = 0.069\\nsamples = 28\\nvalue = [1, 27]'),\n",
       " Text(283.2923076923077, 85.42285714285714, 'gini = 0.0\\nsamples = 22\\nvalue = [0, 22]'),\n",
       " Text(289.7307692307692, 85.42285714285714, 'X[5] <= 40.7\\ngini = 0.278\\nsamples = 6\\nvalue = [1, 5]'),\n",
       " Text(286.51153846153846, 69.89142857142858, 'gini = 0.0\\nsamples = 1\\nvalue = [1, 0]'),\n",
       " Text(292.95, 69.89142857142858, 'gini = 0.0\\nsamples = 5\\nvalue = [0, 5]'),\n",
       " Text(296.1692307692308, 116.48571428571428, 'X[2] <= 64.0\\ngini = 0.444\\nsamples = 3\\nvalue = [2, 1]'),\n",
       " Text(292.95, 100.9542857142857, 'gini = 0.0\\nsamples = 1\\nvalue = [0, 1]'),\n",
       " Text(299.38846153846157, 100.9542857142857, 'gini = 0.0\\nsamples = 2\\nvalue = [2, 0]'),\n",
       " Text(320.3134615384615, 163.07999999999998, 'X[4] <= 595.0\\ngini = 0.219\\nsamples = 72\\nvalue = [9, 63]'),\n",
       " Text(312.2653846153846, 147.54857142857142, 'X[6] <= 0.307\\ngini = 0.182\\nsamples = 69\\nvalue = [7, 62]'),\n",
       " Text(305.8269230769231, 132.01714285714286, 'X[5] <= 31.4\\ngini = 0.401\\nsamples = 18\\nvalue = [5, 13]'),\n",
       " Text(302.60769230769233, 116.48571428571428, 'gini = 0.0\\nsamples = 2\\nvalue = [2, 0]'),\n",
       " Text(309.04615384615386, 116.48571428571428, 'X[1] <= 179.5\\ngini = 0.305\\nsamples = 16\\nvalue = [3, 13]'),\n",
       " Text(305.8269230769231, 100.9542857142857, 'X[1] <= 177.0\\ngini = 0.42\\nsamples = 10\\nvalue = [3, 7]'),\n",
       " Text(302.60769230769233, 85.42285714285714, 'X[0] <= 0.5\\ngini = 0.219\\nsamples = 8\\nvalue = [1, 7]'),\n",
       " Text(299.38846153846157, 69.89142857142858, 'gini = 0.0\\nsamples = 1\\nvalue = [1, 0]'),\n",
       " Text(305.8269230769231, 69.89142857142858, 'gini = 0.0\\nsamples = 7\\nvalue = [0, 7]'),\n",
       " Text(309.04615384615386, 85.42285714285714, 'gini = 0.0\\nsamples = 2\\nvalue = [2, 0]'),\n",
       " Text(312.2653846153846, 100.9542857142857, 'gini = 0.0\\nsamples = 6\\nvalue = [0, 6]'),\n",
       " Text(318.70384615384614, 132.01714285714286, 'X[7] <= 48.0\\ngini = 0.075\\nsamples = 51\\nvalue = [2, 49]'),\n",
       " Text(315.4846153846154, 116.48571428571428, 'gini = 0.0\\nsamples = 42\\nvalue = [0, 42]'),\n",
       " Text(321.9230769230769, 116.48571428571428, 'X[7] <= 50.5\\ngini = 0.346\\nsamples = 9\\nvalue = [2, 7]'),\n",
       " Text(318.70384615384614, 100.9542857142857, 'gini = 0.0\\nsamples = 1\\nvalue = [1, 0]'),\n",
       " Text(325.1423076923077, 100.9542857142857, 'X[0] <= 0.5\\ngini = 0.219\\nsamples = 8\\nvalue = [1, 7]'),\n",
       " Text(321.9230769230769, 85.42285714285714, 'gini = 0.0\\nsamples = 1\\nvalue = [1, 0]'),\n",
       " Text(328.3615384615385, 85.42285714285714, 'gini = 0.0\\nsamples = 7\\nvalue = [0, 7]'),\n",
       " Text(328.3615384615385, 147.54857142857142, 'X[4] <= 795.0\\ngini = 0.444\\nsamples = 3\\nvalue = [2, 1]'),\n",
       " Text(325.1423076923077, 132.01714285714286, 'gini = 0.0\\nsamples = 2\\nvalue = [2, 0]'),\n",
       " Text(331.58076923076925, 132.01714285714286, 'gini = 0.0\\nsamples = 1\\nvalue = [0, 1]')]"
      ]
     },
     "execution_count": 39,
     "metadata": {},
     "output_type": "execute_result"
    },
    {
     "data": {
      "image/png": "[encoded data removed]",
      "text/plain": [
       "<Figure size 432x288 with 1 Axes>"
      ]
     },
     "metadata": {
      "needs_background": "light"
     },
     "output_type": "display_data"
    }
   ],
   "source": [
    "plot_tree(model1)"
   ]
  },
  {
   "cell_type": "markdown",
   "metadata": {},
   "source": [
    "## Ideal Case"
   ]
  },
  {
   "cell_type": "code",
   "execution_count": 40,
   "metadata": {},
   "outputs": [
    {
     "data": {
      "text/plain": [
       "DecisionTreeClassifier(max_depth=5, min_samples_leaf=20, random_state=0)"
      ]
     },
     "execution_count": 40,
     "metadata": {},
     "output_type": "execute_result"
    }
   ],
   "source": [
    "model2=DecisionTreeClassifier(random_state=0,max_depth=5,min_samples_leaf=20)\n",
    "model2.fit(X_train,y_train)"
   ]
  },
  {
   "cell_type": "code",
   "execution_count": 42,
   "metadata": {},
   "outputs": [
    {
     "name": "stdout",
     "output_type": "stream",
     "text": [
      "train model accuracy= 79.80456026058633\n",
      "test model accuracy= 80.51948051948052\n"
     ]
    }
   ],
   "source": [
    "pred_train=model2.predict(X_train)\n",
    "print(\"train model accuracy=\",accuracy_score(y_train,pred_train)*100)\n",
    "pred_test=model2.predict(X_test)\n",
    "print(\"test model accuracy=\",accuracy_score(y_test,pred_test)*100)"
   ]
  },
  {
   "cell_type": "code",
   "execution_count": 45,
   "metadata": {},
   "outputs": [
    {
     "data": {
      "text/plain": [
       "[Text(155.62968750000002, 199.32, 'X[1] <= 123.5\\ngini = 0.461\\nsamples = 614\\nvalue = [393, 221]'),\n",
       " Text(83.7, 163.07999999999998, 'X[7] <= 28.5\\ngini = 0.301\\nsamples = 352\\nvalue = [287, 65]'),\n",
       " Text(41.85, 126.83999999999999, 'X[5] <= 30.95\\ngini = 0.162\\nsamples = 202\\nvalue = [184, 18]'),\n",
       " Text(20.925, 90.6, 'X[1] <= 106.5\\ngini = 0.036\\nsamples = 110\\nvalue = [108, 2]'),\n",
       " Text(10.4625, 54.359999999999985, 'gini = 0.0\\nsamples = 83\\nvalue = [83, 0]'),\n",
       " Text(31.387500000000003, 54.359999999999985, 'gini = 0.137\\nsamples = 27\\nvalue = [25, 2]'),\n",
       " Text(62.775000000000006, 90.6, 'X[2] <= 64.5\\ngini = 0.287\\nsamples = 92\\nvalue = [76, 16]'),\n",
       " Text(52.3125, 54.359999999999985, 'gini = 0.404\\nsamples = 32\\nvalue = [23, 9]'),\n",
       " Text(73.2375, 54.359999999999985, 'X[5] <= 34.3\\ngini = 0.206\\nsamples = 60\\nvalue = [53, 7]'),\n",
       " Text(62.775000000000006, 18.119999999999976, 'gini = 0.32\\nsamples = 20\\nvalue = [16, 4]'),\n",
       " Text(83.7, 18.119999999999976, 'gini = 0.139\\nsamples = 40\\nvalue = [37, 3]'),\n",
       " Text(125.55000000000001, 126.83999999999999, 'X[5] <= 26.35\\ngini = 0.43\\nsamples = 150\\nvalue = [103, 47]'),\n",
       " Text(115.0875, 90.6, 'gini = 0.0\\nsamples = 29\\nvalue = [29, 0]'),\n",
       " Text(136.01250000000002, 90.6, 'X[1] <= 99.5\\ngini = 0.475\\nsamples = 121\\nvalue = [74, 47]'),\n",
       " Text(115.0875, 54.359999999999985, 'X[7] <= 39.5\\ngini = 0.337\\nsamples = 42\\nvalue = [33, 9]'),\n",
       " Text(104.625, 18.119999999999976, 'gini = 0.236\\nsamples = 22\\nvalue = [19, 3]'),\n",
       " Text(125.55000000000001, 18.119999999999976, 'gini = 0.42\\nsamples = 20\\nvalue = [14, 6]'),\n",
       " Text(156.9375, 54.359999999999985, 'X[6] <= 0.252\\ngini = 0.499\\nsamples = 79\\nvalue = [41, 38]'),\n",
       " Text(146.475, 18.119999999999976, 'gini = 0.423\\nsamples = 23\\nvalue = [16, 7]'),\n",
       " Text(167.4, 18.119999999999976, 'gini = 0.494\\nsamples = 56\\nvalue = [25, 31]'),\n",
       " Text(227.55937500000002, 163.07999999999998, 'X[5] <= 30.05\\ngini = 0.482\\nsamples = 262\\nvalue = [106, 156]'),\n",
       " Text(177.8625, 126.83999999999999, 'X[7] <= 27.5\\ngini = 0.438\\nsamples = 74\\nvalue = [50, 24]'),\n",
       " Text(167.4, 90.6, 'gini = 0.091\\nsamples = 21\\nvalue = [20, 1]'),\n",
       " Text(188.32500000000002, 90.6, 'X[7] <= 52.5\\ngini = 0.491\\nsamples = 53\\nvalue = [30, 23]'),\n",
       " Text(177.8625, 54.359999999999985, 'gini = 0.496\\nsamples = 33\\nvalue = [15, 18]'),\n",
       " Text(198.7875, 54.359999999999985, 'gini = 0.375\\nsamples = 20\\nvalue = [15, 5]'),\n",
       " Text(277.25625, 126.83999999999999, 'X[1] <= 157.5\\ngini = 0.418\\nsamples = 188\\nvalue = [56, 132]'),\n",
       " Text(240.63750000000002, 90.6, 'X[7] <= 28.5\\ngini = 0.482\\nsamples = 116\\nvalue = [47, 69]'),\n",
       " Text(219.7125, 54.359999999999985, 'X[2] <= 73.0\\ngini = 0.49\\nsamples = 42\\nvalue = [24, 18]'),\n",
       " Text(209.25, 18.119999999999976, 'gini = 0.463\\nsamples = 22\\nvalue = [8, 14]'),\n",
       " Text(230.175, 18.119999999999976, 'gini = 0.32\\nsamples = 20\\nvalue = [16, 4]'),\n",
       " Text(261.5625, 54.359999999999985, 'X[6] <= 0.429\\ngini = 0.428\\nsamples = 74\\nvalue = [23, 51]'),\n",
       " Text(251.10000000000002, 18.119999999999976, 'gini = 0.499\\nsamples = 38\\nvalue = [18, 20]'),\n",
       " Text(272.02500000000003, 18.119999999999976, 'gini = 0.239\\nsamples = 36\\nvalue = [5, 31]'),\n",
       " Text(313.875, 90.6, 'X[4] <= 252.0\\ngini = 0.219\\nsamples = 72\\nvalue = [9, 63]'),\n",
       " Text(303.4125, 54.359999999999985, 'X[5] <= 35.3\\ngini = 0.142\\nsamples = 52\\nvalue = [4, 48]'),\n",
       " Text(292.95, 18.119999999999976, 'gini = 0.278\\nsamples = 24\\nvalue = [4, 20]'),\n",
       " Text(313.875, 18.119999999999976, 'gini = 0.0\\nsamples = 28\\nvalue = [0, 28]'),\n",
       " Text(324.33750000000003, 54.359999999999985, 'gini = 0.375\\nsamples = 20\\nvalue = [5, 15]')]"
      ]
     },
     "execution_count": 45,
     "metadata": {},
     "output_type": "execute_result"
    },
    {
     "data": {
      "image/png": "[encoded data removed]",
      "text/plain": [
       "<Figure size 432x288 with 1 Axes>"
      ]
     },
     "metadata": {
      "needs_background": "light"
     },
     "output_type": "display_data"
    }
   ],
   "source": [
    "plot_tree(model2)"
   ]
  },
  {
   "cell_type": "markdown",
   "metadata": {},
   "source": [
    "## Underfitting Example"
   ]
  },
  {
   "cell_type": "code",
   "execution_count": 47,
   "metadata": {},
   "outputs": [
    {
     "data": {
      "text/plain": [
       "DecisionTreeClassifier(max_depth=2, min_samples_leaf=100, random_state=0)"
      ]
     },
     "execution_count": 47,
     "metadata": {},
     "output_type": "execute_result"
    }
   ],
   "source": [
    "model3=DecisionTreeClassifier(random_state=0,max_depth=2,min_samples_leaf=100)\n",
    "model3.fit(X_train,y_train)"
   ]
  },
  {
   "cell_type": "code",
   "execution_count": 48,
   "metadata": {},
   "outputs": [
    {
     "name": "stdout",
     "output_type": "stream",
     "text": [
      "train model accuracy= 73.61563517915309\n",
      "test model accuracy= 76.62337662337663\n"
     ]
    }
   ],
   "source": [
    "pred_train=model3.predict(X_train)\n",
    "print(\"train model accuracy=\",accuracy_score(y_train,pred_train)*100)\n",
    "pred_test=model3.predict(X_test)\n",
    "print(\"test model accuracy=\",accuracy_score(y_test,pred_test)*100)"
   ]
  },
  {
   "cell_type": "code",
   "execution_count": 49,
   "metadata": {},
   "outputs": [
    {
     "data": {
      "text/plain": [
       "[Text(167.4, 181.2, 'X[1] <= 123.5\\ngini = 0.461\\nsamples = 614\\nvalue = [393, 221]'),\n",
       " Text(83.7, 108.72, 'X[7] <= 28.5\\ngini = 0.301\\nsamples = 352\\nvalue = [287, 65]'),\n",
       " Text(41.85, 36.23999999999998, 'gini = 0.162\\nsamples = 202\\nvalue = [184, 18]'),\n",
       " Text(125.55000000000001, 36.23999999999998, 'gini = 0.43\\nsamples = 150\\nvalue = [103, 47]'),\n",
       " Text(251.10000000000002, 108.72, 'X[1] <= 151.5\\ngini = 0.482\\nsamples = 262\\nvalue = [106, 156]'),\n",
       " Text(209.25, 36.23999999999998, 'gini = 0.498\\nsamples = 157\\nvalue = [83, 74]'),\n",
       " Text(292.95, 36.23999999999998, 'gini = 0.342\\nsamples = 105\\nvalue = [23, 82]')]"
      ]
     },
     "execution_count": 49,
     "metadata": {},
     "output_type": "execute_result"
    },
    {
     "data": {
      "image/png": "[encoded data removed]",
      "text/plain": [
       "<Figure size 432x288 with 1 Axes>"
      ]
     },
     "metadata": {
      "needs_background": "light"
     },
     "output_type": "display_data"
    }
   ],
   "source": [
    "plot_tree(model3)"
   ]
  },
  {
   "cell_type": "code",
   "execution_count": null,
   "metadata": {},
   "outputs": [],
   "source": []
  }
 ],
 "metadata": {
  "kernelspec": {
   "display_name": "Python 3",
   "language": "python",
   "name": "python3"
  },
  "language_info": {
   "codemirror_mode": {
    "name": "ipython",
    "version": 3
   },
   "file_extension": ".py",
   "mimetype": "text/x-python",
   "name": "python",
   "nbconvert_exporter": "python",
   "pygments_lexer": "ipython3",
   "version": "3.8.3"
  }
 },
 "nbformat": 4,
 "nbformat_minor": 4
}
